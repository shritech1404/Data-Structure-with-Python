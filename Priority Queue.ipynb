{
 "cells": [
  {
   "cell_type": "markdown",
   "id": "0c823327",
   "metadata": {},
   "source": [
    "# Priority Queue - dequeue (remove) the element priority wise\n",
    "\n",
    "1. lowest the element highest the priority- lowest number get remove first\n",
    "\n",
    "2. highest the element highest the priority - highest number remove first"
   ]
  },
  {
   "cell_type": "code",
   "execution_count": 9,
   "id": "a0060085",
   "metadata": {},
   "outputs": [
    {
     "name": "stdout",
     "output_type": "stream",
     "text": [
      "Enter the operation number (1.enqueue, 2.dequeue, 3.quite): 1\n",
      "Enter the element that you want to add in queue: 32\n",
      "element 32 added in queue.!!\n",
      "Enter the operation number (1.enqueue, 2.dequeue, 3.quite): 1\n",
      "Enter the element that you want to add in queue: 36\n",
      "element 36 added in queue.!!\n",
      "Enter the operation number (1.enqueue, 2.dequeue, 3.quite): 1\n",
      "Enter the element that you want to add in queue: 12\n",
      "element 12 added in queue.!!\n",
      "Enter the operation number (1.enqueue, 2.dequeue, 3.quite): 1\n",
      "Enter the element that you want to add in queue: 65\n",
      "element 65 added in queue.!!\n",
      "Enter the operation number (1.enqueue, 2.dequeue, 3.quite): 2\n",
      "['32', '36', '12', '65']\n",
      "Enter your priority number (1.lowest the element highest the priority 2.highest the element highest the priority):1\n",
      "Element 12 remove from queue.!!\n",
      "['32', '36', '65']\n",
      "Enter the operation number (1.enqueue, 2.dequeue, 3.quite): 1\n",
      "Enter the element that you want to add in queue: 99\n",
      "element 99 added in queue.!!\n",
      "Enter the operation number (1.enqueue, 2.dequeue, 3.quite): 2\n",
      "['32', '36', '65', '99']\n",
      "Enter your priority number (1.lowest the element highest the priority 2.highest the element highest the priority):1\n",
      "Element 32 remove from queue.!!\n",
      "['36', '65', '99']\n",
      "Enter the operation number (1.enqueue, 2.dequeue, 3.quite): 2\n",
      "['36', '65', '99']\n",
      "Enter your priority number (1.lowest the element highest the priority 2.highest the element highest the priority):2\n",
      "Element 99 remove from queue.!!\n",
      "['36', '65']\n",
      "Enter the operation number (1.enqueue, 2.dequeue, 3.quite): 2\n",
      "['36', '65']\n",
      "Enter your priority number (1.lowest the element highest the priority 2.highest the element highest the priority):1\n",
      "Element 36 remove from queue.!!\n",
      "['65']\n",
      "Enter the operation number (1.enqueue, 2.dequeue, 3.quite): 3\n"
     ]
    }
   ],
   "source": [
    "q = []\n",
    "def enqueue():\n",
    "    inp = input('Enter the element that you want to add in queue: ')\n",
    "    q.append(inp)\n",
    "    print(f'element {inp} added in queue.!!')\n",
    "\n",
    "def dequeue():\n",
    "    inp = int(input('Enter your priority number (1.lowest the element highest the priority 2.highest the element highest the priority):')) \n",
    "    if inp==1:\n",
    "        q.sort()\n",
    "        print(f'Element {q.pop(0)} remove from queue.!!')\n",
    "        print(q)\n",
    "    elif inp==2:\n",
    "        q.sort()\n",
    "        print(f'Element {q.pop(-1)} remove from queue.!!')\n",
    "        print(q)\n",
    "    else:\n",
    "        print('Please enter valid operation number.!!')\n",
    "\n",
    "while True:\n",
    "    inp = int(input('Enter the operation number (1.enqueue, 2.dequeue, 3.quite): '))\n",
    "    if inp==1:\n",
    "        if len(q)<4:\n",
    "            enqueue()\n",
    "        else:\n",
    "            print('Queue is full.!!')\n",
    "    elif inp==2:\n",
    "        print(q)\n",
    "        if len(q)>0:\n",
    "            dequeue()\n",
    "        else:\n",
    "            print('Queue is empty.!!')\n",
    "    elif inp==3:\n",
    "        break\n",
    "    else:\n",
    "        print('Enter valid operation number.!!')"
   ]
  },
  {
   "cell_type": "code",
   "execution_count": null,
   "id": "d370aa00",
   "metadata": {},
   "outputs": [],
   "source": []
  },
  {
   "cell_type": "code",
   "execution_count": null,
   "id": "99658788",
   "metadata": {},
   "outputs": [],
   "source": []
  },
  {
   "cell_type": "code",
   "execution_count": null,
   "id": "563e8117",
   "metadata": {},
   "outputs": [],
   "source": []
  }
 ],
 "metadata": {
  "kernelspec": {
   "display_name": "Python 3",
   "language": "python",
   "name": "python3"
  },
  "language_info": {
   "codemirror_mode": {
    "name": "ipython",
    "version": 3
   },
   "file_extension": ".py",
   "mimetype": "text/x-python",
   "name": "python",
   "nbconvert_exporter": "python",
   "pygments_lexer": "ipython3",
   "version": "3.8.8"
  }
 },
 "nbformat": 4,
 "nbformat_minor": 5
}
