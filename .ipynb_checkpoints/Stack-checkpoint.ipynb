{
 "cells": [
  {
   "cell_type": "markdown",
   "id": "86420038",
   "metadata": {},
   "source": [
    "## Push, Pop, isEmpty"
   ]
  },
  {
   "cell_type": "code",
   "execution_count": 12,
   "id": "046222fe",
   "metadata": {},
   "outputs": [
    {
     "name": "stdout",
     "output_type": "stream",
     "text": [
      "Enter your operation number (1.push, 2.pop, 3.quit): 4\n",
      "Enter valid operation number.!!\n",
      "Enter your operation number (1.push, 2.pop, 3.quit): 1\n",
      "Enter the element that you want to push n stack: 23\n",
      "Element added\n",
      "Enter your operation number (1.push, 2.pop, 3.quit): 3\n"
     ]
    }
   ],
   "source": [
    "stack=[]\n",
    "def push_():\n",
    "    inp = input('Enter the element that you want to push n stack: ')\n",
    "    stack.append(inp)\n",
    "    print('Element added')\n",
    "    return stack\n",
    "\n",
    "def pop_():\n",
    "    print('Element was poped from stack:',stack.pop())\n",
    "    return stack\n",
    "\n",
    "while True:\n",
    "    inp = input('Enter your operation number (1.push, 2.pop, 3.quit): ')\n",
    "    if int(inp)==1:\n",
    "        if len(stack)<=5:\n",
    "            push_()\n",
    "        else:\n",
    "            print('Stack is full.!!')\n",
    "    elif int(inp)==2:\n",
    "        if len(stack)>0:\n",
    "            pop_()\n",
    "        else:\n",
    "            print('Stack is empty.!!')\n",
    "    elif int(inp)==3:\n",
    "        break\n",
    "    else:\n",
    "        print('Enter valid operation number.!!')"
   ]
  },
  {
   "cell_type": "code",
   "execution_count": null,
   "id": "cc6a5230",
   "metadata": {},
   "outputs": [],
   "source": []
  },
  {
   "cell_type": "code",
   "execution_count": 38,
   "id": "ca4a3a53",
   "metadata": {},
   "outputs": [
    {
     "data": {
      "text/plain": [
       "'yob doog si tnakirhS'"
      ]
     },
     "execution_count": 38,
     "metadata": {},
     "output_type": "execute_result"
    }
   ],
   "source": [
    "## reverse string\n",
    "lst,lst1=[],[]\n",
    "string = 'Shrikant is good boy'\n",
    "lst_ = list(string)\n",
    "for i in lst_:\n",
    "    lst.append(i)\n",
    "\n",
    "for j in range(len(lst)):\n",
    "    lst1.append(lst.pop())\n",
    "    \n",
    "''.join(lst1)"
   ]
  }
 ],
 "metadata": {
  "kernelspec": {
   "display_name": "Python 3",
   "language": "python",
   "name": "python3"
  },
  "language_info": {
   "codemirror_mode": {
    "name": "ipython",
    "version": 3
   },
   "file_extension": ".py",
   "mimetype": "text/x-python",
   "name": "python",
   "nbconvert_exporter": "python",
   "pygments_lexer": "ipython3",
   "version": "3.8.8"
  }
 },
 "nbformat": 4,
 "nbformat_minor": 5
}
