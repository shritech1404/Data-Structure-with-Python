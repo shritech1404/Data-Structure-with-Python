{
 "cells": [
  {
   "cell_type": "markdown",
   "id": "1d20430c",
   "metadata": {},
   "source": [
    "## Single Linked List\n",
    "### 1. Add element\n",
    "    a. add element at beginning\n",
    "    b. add element at end\n",
    "    c. add element inbetween\n",
    "### 2. Remove element\n",
    "    a. remove element from beginning\n",
    "    b. remove element from last\n",
    "    c. remove element inbetween\n",
    "### 3. Traversal"
   ]
  },
  {
   "cell_type": "code",
   "execution_count": 11,
   "id": "c6f0b5ad",
   "metadata": {},
   "outputs": [
    {
     "name": "stdout",
     "output_type": "stream",
     "text": [
      "30\n",
      "20\n",
      "10\n",
      "100\n",
      "500\n"
     ]
    }
   ],
   "source": [
    "class Node:  ## create new node with refer5ance/link is None\n",
    "    def __init__(self, data):\n",
    "        self.data=data\n",
    "        self.ref=None\n",
    "        \n",
    "class Single_Linked_list:\n",
    "    def __init__(self):\n",
    "        self.head=None  ## initially head is none\n",
    "    \n",
    "    def traverse(self): ## print the data sequentially\n",
    "        if self.head is None: ## check linked list is empty or not if it is empty print message linked lis is empty\n",
    "            print('Linked List is Empty.!!')\n",
    "        else: ## if linked list is not empty then keep n is head and while head is not null then print n'th data and change n to the n.reference\n",
    "            n = self.head\n",
    "            while n is not None:\n",
    "                print(n.data)\n",
    "                n=n.ref\n",
    "                \n",
    "    # 1.a. add element at beginning\n",
    "    def add_begin(self, data):\n",
    "        new_data = Node(data) ## create new node\n",
    "        new_data.ref = self.head  ## link newly created node to head\n",
    "        self.head = new_data ## change head to new_node\n",
    "        \n",
    "    # 1.b. add element at end    \n",
    "    def add_end(self, data):\n",
    "        new_node = Node(data)  ## create new node\n",
    "        if self.head is None: ## check head is none or not if it is none then new created node we say head\n",
    "            self.head=new_node\n",
    "        else:\n",
    "            n = self.head ## keep head value in n\n",
    "            while n.ref is not None: ## iterate till where n.ref == null\n",
    "                n = n.ref ## now n is next node of ref \n",
    "            n.ref = new_node ## assign n ref to new created node\n",
    "            \n",
    "        \n",
    "LL1=Single_Linked_list()\n",
    "LL1.add_begin(10)\n",
    "LL1.add_end(100)\n",
    "LL1.add_begin(20)\n",
    "LL1.add_end(500)\n",
    "LL1.add_begin(30)\n",
    "\n",
    "LL1.traverse()"
   ]
  },
  {
   "cell_type": "code",
   "execution_count": 10,
   "id": "4a4f5d6b",
   "metadata": {},
   "outputs": [
    {
     "name": "stdout",
     "output_type": "stream",
     "text": [
      "50\n",
      "100\n",
      "200\n"
     ]
    }
   ],
   "source": [
    "class Node:\n",
    "    def __init__(self,data):\n",
    "        self.data = data\n",
    "        self.ref = None\n",
    "        \n",
    "class SLL:\n",
    "    def __init__(self):\n",
    "        self.head=None\n",
    "        \n",
    "    def travers(self):\n",
    "        if self.head is None:\n",
    "            print('Linked List is Empty.!!')\n",
    "        else:\n",
    "            n = self.head\n",
    "            while n is not None:\n",
    "                print(n.data)\n",
    "                n = n.ref\n",
    "        \n",
    "    def add_begin(self, data):\n",
    "        new_node = Node(data)\n",
    "        new_node.ref = self.head\n",
    "        self.head = new_node\n",
    "        \n",
    "    def add_end(self, data):\n",
    "        new_node = Node(data)\n",
    "        if self.head is None:\n",
    "            self.head = new_node\n",
    "        else:\n",
    "            n = self.head\n",
    "            while n.ref is not None:\n",
    "                n = n.ref\n",
    "            n.ref = new_node\n",
    "LL1 = SLL()\n",
    "LL1.add_begin(100)\n",
    "LL1.add_end(200)\n",
    "LL1.add_begin(50)\n",
    "LL1.travers()"
   ]
  },
  {
   "cell_type": "code",
   "execution_count": null,
   "id": "c39dc530",
   "metadata": {},
   "outputs": [],
   "source": []
  }
 ],
 "metadata": {
  "kernelspec": {
   "display_name": "Python 3",
   "language": "python",
   "name": "python3"
  },
  "language_info": {
   "codemirror_mode": {
    "name": "ipython",
    "version": 3
   },
   "file_extension": ".py",
   "mimetype": "text/x-python",
   "name": "python",
   "nbconvert_exporter": "python",
   "pygments_lexer": "ipython3",
   "version": "3.8.8"
  }
 },
 "nbformat": 4,
 "nbformat_minor": 5
}
