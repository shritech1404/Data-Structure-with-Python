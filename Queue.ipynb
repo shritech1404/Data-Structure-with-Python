{
 "cells": [
  {
   "cell_type": "markdown",
   "id": "dae7efb2",
   "metadata": {},
   "source": [
    " # Queue- FIFO or LILO\n",
    " ## 1. enqueue-\n",
    " process of adding elememt in queue\n",
    " ## 2. dequeue-\n",
    " process of deleting the elements from queue"
   ]
  },
  {
   "cell_type": "code",
   "execution_count": 17,
   "id": "a378fb8c",
   "metadata": {},
   "outputs": [
    {
     "name": "stdout",
     "output_type": "stream",
     "text": [
      "Choose operation number (1. enqueue, 2.dequeue, 3.quit): 1\n",
      "Enter the element that you want to add in queue: 23\n",
      "Element was added.!!\n",
      "['23']\n",
      "Choose operation number (1. enqueue, 2.dequeue, 3.quit): 1\n",
      "Enter the element that you want to add in queue: 25\n",
      "Element was added.!!\n",
      "['23', '25']\n",
      "Choose operation number (1. enqueue, 2.dequeue, 3.quit): 1\n",
      "Enter the element that you want to add in queue: 45\n",
      "Element was added.!!\n",
      "['23', '25', '45']\n",
      "Choose operation number (1. enqueue, 2.dequeue, 3.quit): 1\n",
      "Enter the element that you want to add in queue: 69\n",
      "Element was added.!!\n",
      "['23', '25', '45', '69']\n",
      "Choose operation number (1. enqueue, 2.dequeue, 3.quit): 1\n",
      "Enter the element that you want to add in queue: 78\n",
      "Element was added.!!\n",
      "['23', '25', '45', '69', '78']\n",
      "Choose operation number (1. enqueue, 2.dequeue, 3.quit): 1\n",
      "Queue is full.!!\n",
      "Choose operation number (1. enqueue, 2.dequeue, 3.quit): 54\n",
      "Please enter valid operation number.!!\n",
      "Choose operation number (1. enqueue, 2.dequeue, 3.quit): 2\n",
      "Element was removed.!!\n",
      "['25', '45', '69', '78']\n",
      "Choose operation number (1. enqueue, 2.dequeue, 3.quit): 2\n",
      "Element was removed.!!\n",
      "['45', '69', '78']\n",
      "Choose operation number (1. enqueue, 2.dequeue, 3.quit): 2\n",
      "Element was removed.!!\n",
      "['69', '78']\n",
      "Choose operation number (1. enqueue, 2.dequeue, 3.quit): 2\n",
      "Element was removed.!!\n",
      "['78']\n",
      "Choose operation number (1. enqueue, 2.dequeue, 3.quit): 2\n",
      "Element was removed.!!\n",
      "[]\n",
      "Choose operation number (1. enqueue, 2.dequeue, 3.quit): 2\n",
      "Queue is empty.!!\n",
      "Choose operation number (1. enqueue, 2.dequeue, 3.quit): 3\n"
     ]
    }
   ],
   "source": [
    "queue = []\n",
    "def enqueue():\n",
    "    inp = input('Enter the element that you want to add in queue: ')\n",
    "    queue.append(inp)\n",
    "    print('Element was added.!!')\n",
    "    print(queue)\n",
    "\n",
    "def dequeue():\n",
    "    queue.pop(0)\n",
    "    print('Element was removed.!!')\n",
    "    print(queue)\n",
    "\n",
    "while True:\n",
    "    inp = int(input('Choose operation number (1. enqueue, 2.dequeue, 3.quit): '))\n",
    "    if inp==1:\n",
    "        if len(queue)<=4:\n",
    "            enqueue()\n",
    "        else:\n",
    "            print('Queue is full.!!')\n",
    "    elif inp==2:\n",
    "        if len(queue)>0:\n",
    "            dequeue()\n",
    "        else:\n",
    "            print('Queue is empty.!!')\n",
    "    elif inp==3:\n",
    "        break\n",
    "    else:\n",
    "        print('Please enter valid operation number.!!')"
   ]
  },
  {
   "cell_type": "code",
   "execution_count": 19,
   "id": "8712a4e0",
   "metadata": {},
   "outputs": [
    {
     "data": {
      "text/plain": [
       "deque([75, 13, 10])"
      ]
     },
     "execution_count": 19,
     "metadata": {},
     "output_type": "execute_result"
    }
   ],
   "source": [
    "## using collection\n",
    "import collections\n",
    "q=collections.deque()\n",
    "q.appendleft(10)\n",
    "q.appendleft(13)\n",
    "q.appendleft(75)"
   ]
  },
  {
   "cell_type": "code",
   "execution_count": 20,
   "id": "946b6a52",
   "metadata": {},
   "outputs": [
    {
     "data": {
      "text/plain": [
       "10"
      ]
     },
     "execution_count": 20,
     "metadata": {},
     "output_type": "execute_result"
    }
   ],
   "source": [
    "q.pop()"
   ]
  },
  {
   "cell_type": "code",
   "execution_count": 23,
   "id": "3f40c2fb",
   "metadata": {},
   "outputs": [
    {
     "data": {
      "text/plain": [
       "deque([10, 13, 75])"
      ]
     },
     "execution_count": 23,
     "metadata": {},
     "output_type": "execute_result"
    }
   ],
   "source": [
    "q_=collections.deque()\n",
    "q_.append(10)\n",
    "q_.append(13)\n",
    "q_.append(75)\n",
    "q_"
   ]
  },
  {
   "cell_type": "code",
   "execution_count": 24,
   "id": "defae18d",
   "metadata": {},
   "outputs": [
    {
     "data": {
      "text/plain": [
       "10"
      ]
     },
     "execution_count": 24,
     "metadata": {},
     "output_type": "execute_result"
    }
   ],
   "source": [
    "q_.popleft()"
   ]
  },
  {
   "cell_type": "code",
   "execution_count": null,
   "id": "b9ab8f9f",
   "metadata": {},
   "outputs": [],
   "source": []
  }
 ],
 "metadata": {
  "kernelspec": {
   "display_name": "Python 3",
   "language": "python",
   "name": "python3"
  },
  "language_info": {
   "codemirror_mode": {
    "name": "ipython",
    "version": 3
   },
   "file_extension": ".py",
   "mimetype": "text/x-python",
   "name": "python",
   "nbconvert_exporter": "python",
   "pygments_lexer": "ipython3",
   "version": "3.8.8"
  }
 },
 "nbformat": 4,
 "nbformat_minor": 5
}
